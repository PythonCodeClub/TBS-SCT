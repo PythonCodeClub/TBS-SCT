{
 "cells": [
  {
   "cell_type": "code",
   "execution_count": 1,
   "metadata": {
    "collapsed": true
   },
   "outputs": [],
   "source": [
    "import pandas as pd"
   ]
  },
  {
   "cell_type": "code",
   "execution_count": 7,
   "metadata": {},
   "outputs": [],
   "source": [
    "txt = pd.read_csv('../data/Mailing.txt',sep=';')"
   ]
  },
  {
   "cell_type": "code",
   "execution_count": 13,
   "metadata": {},
   "outputs": [],
   "source": [
    "data = list(txt.columns)"
   ]
  },
  {
   "cell_type": "code",
   "execution_count": 14,
   "metadata": {},
   "outputs": [
    {
     "data": {
      "text/plain": [
       "['TBS CONF Ott-90Elgin-2-2025 CONF SCT <zzMTGRM190Elgin2D@tbs-sct.gc.ca>',\n",
       " ' TBS CONF Ott-90Elgin-4-4386 CONF SCT <zzMTGRM190Elgin4G@tbs-sct.gc.ca>',\n",
       " ' Yung, Michael <Michael.Yung@tbs-sct.gc.ca>',\n",
       " ' Pelchat-Labelle, Laurence <Laurence.Pelchat-Labelle@tbs-sct.gc.ca>',\n",
       " ' Zhang, Lisong <Lisong.Zhang@tbs-sct.gc.ca>',\n",
       " ' Ward, Ian <Ian.Ward@tbs-sct.gc.ca>',\n",
       " ' Ng, Monique <Monique.Ng@tbs-sct.gc.ca>',\n",
       " \" O'Byrne, Byron <Byron.OByrne@tbs-sct.gc.ca>\",\n",
       " ' Baran, Jessica <Jessica.Baran@tbs-sct.gc.ca>',\n",
       " ' Beck-MacNeil, Ross <Ross.Beck-MacNeil@tbs-sct.gc.ca>',\n",
       " ' Wilson-Boudreau, Sandra <Sandra.Wilson-Boudreau@tbs-sct.gc.ca>',\n",
       " ' Innes, Stefan <Stefan.Innes@tbs-sct.gc.ca>',\n",
       " ' Sajjad, Rabia <Rabia.Sajjad@tbs-sct.gc.ca>',\n",
       " \" O'Blenis, Craig <Craig.OBlenis@tbs-sct.gc.ca>\",\n",
       " ' Fortin, Youssef <Youssef.Fortin@tbs-sct.gc.ca>',\n",
       " ' Muirhead, Mike <Mike.Muirhead@tbs-sct.gc.ca>',\n",
       " ' Mal\\xc3\\xa9, Charles <Charles.Male@tbs-sct.gc.ca>',\n",
       " ' Beck-MacNeil, Ross (STATCAN) <ross.beck-macneil@canada.ca>',\n",
       " ' Lee, Wan-Chen <Wan-Chen.Lee@tbs-sct.gc.ca>',\n",
       " ' Emily Kokkoros (Emily.Kokkoros@tbs-sct.gc.ca)']"
      ]
     },
     "execution_count": 14,
     "metadata": {},
     "output_type": "execute_result"
    }
   ],
   "source": [
    "data"
   ]
  }
 ],
 "metadata": {
  "kernelspec": {
   "display_name": "Python [default]",
   "language": "python",
   "name": "python2"
  },
  "language_info": {
   "codemirror_mode": {
    "name": "ipython",
    "version": 2
   },
   "file_extension": ".py",
   "mimetype": "text/x-python",
   "name": "python",
   "nbconvert_exporter": "python",
   "pygments_lexer": "ipython2",
   "version": "2.7.13"
  }
 },
 "nbformat": 4,
 "nbformat_minor": 2
}

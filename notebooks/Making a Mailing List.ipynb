{
 "cells": [
  {
   "cell_type": "code",
   "execution_count": 1,
   "metadata": {
    "collapsed": true
   },
   "outputs": [],
   "source": [
    "import pandas as pd "
   ]
  },
  {
   "cell_type": "code",
   "execution_count": 6,
   "metadata": {
    "scrolled": true
   },
   "outputs": [],
   "source": [
    "text = pd.read_csv(r'\\\\az-s-files\\DataScience\\rsaavy\\03_PythonCodersClubTBS-SCT\\data\\Mailing.txt',sep=';')"
   ]
  },
  {
   "cell_type": "code",
   "execution_count": 11,
   "metadata": {
    "scrolled": true
   },
   "outputs": [
    {
     "data": {
      "text/html": [
       "<div>\n",
       "<style>\n",
       "    .dataframe thead tr:only-child th {\n",
       "        text-align: right;\n",
       "    }\n",
       "\n",
       "    .dataframe thead th {\n",
       "        text-align: left;\n",
       "    }\n",
       "\n",
       "    .dataframe tbody tr th {\n",
       "        vertical-align: top;\n",
       "    }\n",
       "</style>\n",
       "<table border=\"1\" class=\"dataframe\">\n",
       "  <thead>\n",
       "    <tr style=\"text-align: right;\">\n",
       "      <th></th>\n",
       "      <th>TBS CONF Ott-90Elgin-2-2025 CONF SCT &lt;zzMTGRM190Elgin2D@tbs-sct.gc.ca&gt;</th>\n",
       "      <th>TBS CONF Ott-90Elgin-4-4386 CONF SCT &lt;zzMTGRM190Elgin4G@tbs-sct.gc.ca&gt;</th>\n",
       "      <th>Wilson-Boudreau, Sandra &lt;Sandra.Wilson-Boudreau@tbs-sct.gc.ca&gt;</th>\n",
       "      <th>Yung, Michael &lt;Michael.Yung@tbs-sct.gc.ca&gt;</th>\n",
       "      <th>Pelchat-Labelle, Laurence &lt;Laurence.Pelchat-Labelle@tbs-sct.gc.ca&gt;</th>\n",
       "      <th>Zhang, Lisong &lt;Lisong.Zhang@tbs-sct.gc.ca&gt;</th>\n",
       "      <th>Ward, Ian &lt;Ian.Ward@tbs-sct.gc.ca&gt;</th>\n",
       "      <th>Innes, Stefan &lt;Stefan.Innes@tbs-sct.gc.ca&gt;</th>\n",
       "      <th>Sajjad, Rabia &lt;Rabia.Sajjad@tbs-sct.gc.ca&gt;</th>\n",
       "      <th>O'Blenis, Craig &lt;Craig.OBlenis@tbs-sct.gc.ca&gt;</th>\n",
       "      <th>...</th>\n",
       "      <th>Muirhead, Mike &lt;Mike.Muirhead@tbs-sct.gc.ca&gt;</th>\n",
       "      <th>Malé, Charles &lt;Charles.Male@tbs-sct.gc.ca&gt;</th>\n",
       "      <th>Beck-MacNeil, Ross (STATCAN) &lt;ross.beck-macneil@canada.ca&gt;</th>\n",
       "      <th>Ng, Monique &lt;Monique.Ng@tbs-sct.gc.ca&gt;</th>\n",
       "      <th>O'Byrne, Byron &lt;Byron.OByrne@tbs-sct.gc.ca&gt;</th>\n",
       "      <th>Baran, Jessica &lt;Jessica.Baran@tbs-sct.gc.ca&gt;</th>\n",
       "      <th>Beck-MacNeil, Ross &lt;Ross.Beck-MacNeil@tbs-sct.gc.ca&gt;</th>\n",
       "      <th>Lee, Wan-Chen &lt;Wan-Chen.Lee@tbs-sct.gc.ca&gt;</th>\n",
       "      <th>Emily Kokkoros (Emily.Kokkoros@tbs-sct.gc.ca)</th>\n",
       "      <th>\\</th>\n",
       "    </tr>\n",
       "  </thead>\n",
       "  <tbody>\n",
       "  </tbody>\n",
       "</table>\n",
       "<p>0 rows × 21 columns</p>\n",
       "</div>"
      ],
      "text/plain": [
       "Empty DataFrame\n",
       "Columns: [TBS CONF Ott-90Elgin-2-2025 CONF SCT <zzMTGRM190Elgin2D@tbs-sct.gc.ca>,  TBS CONF Ott-90Elgin-4-4386 CONF SCT <zzMTGRM190Elgin4G@tbs-sct.gc.ca>,  Wilson-Boudreau, Sandra <Sandra.Wilson-Boudreau@tbs-sct.gc.ca>,  Yung, Michael <Michael.Yung@tbs-sct.gc.ca>,  Pelchat-Labelle, Laurence <Laurence.Pelchat-Labelle@tbs-sct.gc.ca>,  Zhang, Lisong <Lisong.Zhang@tbs-sct.gc.ca>,  Ward, Ian <Ian.Ward@tbs-sct.gc.ca>,  Innes, Stefan <Stefan.Innes@tbs-sct.gc.ca>,  Sajjad, Rabia <Rabia.Sajjad@tbs-sct.gc.ca>,  O'Blenis, Craig <Craig.OBlenis@tbs-sct.gc.ca>,  Fortin, Youssef <Youssef.Fortin@tbs-sct.gc.ca>,  Muirhead, Mike <Mike.Muirhead@tbs-sct.gc.ca>,  Malé, Charles <Charles.Male@tbs-sct.gc.ca>,  Beck-MacNeil, Ross (STATCAN) <ross.beck-macneil@canada.ca>,  Ng, Monique <Monique.Ng@tbs-sct.gc.ca>,  O'Byrne, Byron <Byron.OByrne@tbs-sct.gc.ca>,  Baran, Jessica <Jessica.Baran@tbs-sct.gc.ca>,  Beck-MacNeil, Ross <Ross.Beck-MacNeil@tbs-sct.gc.ca>,  Lee, Wan-Chen <Wan-Chen.Lee@tbs-sct.gc.ca>,  Emily Kokkoros (Emily.Kokkoros@tbs-sct.gc.ca),  \\]\n",
       "Index: []\n",
       "\n",
       "[0 rows x 21 columns]"
      ]
     },
     "execution_count": 11,
     "metadata": {},
     "output_type": "execute_result"
    }
   ],
   "source": [
    "text"
   ]
  },
  {
   "cell_type": "code",
   "execution_count": 14,
   "metadata": {},
   "outputs": [
    {
     "data": {
      "text/plain": [
       "['TBS CONF Ott-90Elgin-2-2025 CONF SCT <zzMTGRM190Elgin2D@tbs-sct.gc.ca>',\n",
       " ' TBS CONF Ott-90Elgin-4-4386 CONF SCT <zzMTGRM190Elgin4G@tbs-sct.gc.ca>',\n",
       " ' Wilson-Boudreau, Sandra <Sandra.Wilson-Boudreau@tbs-sct.gc.ca>',\n",
       " ' Yung, Michael <Michael.Yung@tbs-sct.gc.ca>',\n",
       " ' Pelchat-Labelle, Laurence <Laurence.Pelchat-Labelle@tbs-sct.gc.ca>',\n",
       " ' Zhang, Lisong <Lisong.Zhang@tbs-sct.gc.ca>',\n",
       " ' Ward, Ian <Ian.Ward@tbs-sct.gc.ca>',\n",
       " ' Innes, Stefan <Stefan.Innes@tbs-sct.gc.ca>',\n",
       " ' Sajjad, Rabia <Rabia.Sajjad@tbs-sct.gc.ca>',\n",
       " \" O'Blenis, Craig <Craig.OBlenis@tbs-sct.gc.ca>\",\n",
       " ' Fortin, Youssef <Youssef.Fortin@tbs-sct.gc.ca>',\n",
       " ' Muirhead, Mike <Mike.Muirhead@tbs-sct.gc.ca>',\n",
       " ' Mal\\xc3\\xa9, Charles <Charles.Male@tbs-sct.gc.ca>',\n",
       " ' Beck-MacNeil, Ross (STATCAN) <ross.beck-macneil@canada.ca>',\n",
       " ' Ng, Monique <Monique.Ng@tbs-sct.gc.ca>',\n",
       " \" O'Byrne, Byron <Byron.OByrne@tbs-sct.gc.ca>\",\n",
       " ' Baran, Jessica <Jessica.Baran@tbs-sct.gc.ca>',\n",
       " ' Beck-MacNeil, Ross <Ross.Beck-MacNeil@tbs-sct.gc.ca>',\n",
       " ' Lee, Wan-Chen <Wan-Chen.Lee@tbs-sct.gc.ca>',\n",
       " ' Emily Kokkoros (Emily.Kokkoros@tbs-sct.gc.ca)',\n",
       " ' \\\\']"
      ]
     },
     "execution_count": 14,
     "metadata": {},
     "output_type": "execute_result"
    }
   ],
   "source": [
    "information = list(text.columns)\n",
    "df = pd.DataFrame()\n",
    "information"
   ]
  },
  {
   "cell_type": "code",
   "execution_count": 77,
   "metadata": {},
   "outputs": [
    {
     "data": {
      "text/html": [
       "<div>\n",
       "<style>\n",
       "    .dataframe thead tr:only-child th {\n",
       "        text-align: right;\n",
       "    }\n",
       "\n",
       "    .dataframe thead th {\n",
       "        text-align: left;\n",
       "    }\n",
       "\n",
       "    .dataframe tbody tr th {\n",
       "        vertical-align: top;\n",
       "    }\n",
       "</style>\n",
       "<table border=\"1\" class=\"dataframe\">\n",
       "  <thead>\n",
       "    <tr style=\"text-align: right;\">\n",
       "      <th></th>\n",
       "      <th>Text</th>\n",
       "    </tr>\n",
       "  </thead>\n",
       "  <tbody>\n",
       "    <tr>\n",
       "      <th>0</th>\n",
       "      <td>TBS CONF Ott-90Elgin-2-2025 CONF SCT &lt;zzMTGRM1...</td>\n",
       "    </tr>\n",
       "  </tbody>\n",
       "</table>\n",
       "</div>"
      ],
      "text/plain": [
       "                                                Text\n",
       "0  TBS CONF Ott-90Elgin-2-2025 CONF SCT <zzMTGRM1..."
      ]
     },
     "execution_count": 77,
     "metadata": {},
     "output_type": "execute_result"
    }
   ],
   "source": [
    "df = pd.DataFrame({\"Text\":information})\n",
    "df.head(1)"
   ]
  },
  {
   "cell_type": "code",
   "execution_count": 83,
   "metadata": {},
   "outputs": [
    {
     "data": {
      "text/plain": [
       "Text     TBS CONF Ott-90Elgin-4-4386 CONF SCT <zzMTGRM...\n",
       "Name: 1, dtype: object"
      ]
     },
     "execution_count": 83,
     "metadata": {},
     "output_type": "execute_result"
    }
   ],
   "source": [
    "df.loc[1]"
   ]
  },
  {
   "cell_type": "code",
   "execution_count": 86,
   "metadata": {},
   "outputs": [
    {
     "ename": "KeyError",
     "evalue": "'emails'",
     "output_type": "error",
     "traceback": [
      "\u001b[1;31m---------------------------------------------------------------------------\u001b[0m",
      "\u001b[1;31mKeyError\u001b[0m                                  Traceback (most recent call last)",
      "\u001b[1;32m<ipython-input-86-080099abf09f>\u001b[0m in \u001b[0;36m<module>\u001b[1;34m()\u001b[0m\n\u001b[0;32m      1\u001b[0m \u001b[0mdf\u001b[0m \u001b[1;33m=\u001b[0m \u001b[0mpd\u001b[0m\u001b[1;33m.\u001b[0m\u001b[0mDataFrame\u001b[0m\u001b[1;33m(\u001b[0m\u001b[1;33m[\u001b[0m\u001b[1;34m'user <email>'\u001b[0m\u001b[1;33m,\u001b[0m \u001b[1;34m'user2 <email2'\u001b[0m\u001b[1;33m]\u001b[0m\u001b[1;33m)\u001b[0m\u001b[1;33m\u001b[0m\u001b[0m\n\u001b[1;32m----> 2\u001b[1;33m \u001b[0mdf\u001b[0m\u001b[1;33m[\u001b[0m\u001b[1;34m'emails'\u001b[0m\u001b[1;33m]\u001b[0m\u001b[1;33m.\u001b[0m\u001b[0mstr\u001b[0m\u001b[1;33m.\u001b[0m\u001b[0msplit\u001b[0m\u001b[1;33m(\u001b[0m\u001b[1;34m'<'\u001b[0m\u001b[1;33m)\u001b[0m\u001b[1;33m.\u001b[0m\u001b[0mstr\u001b[0m\u001b[1;33m[\u001b[0m\u001b[1;36m0\u001b[0m\u001b[1;33m]\u001b[0m\u001b[1;33m\u001b[0m\u001b[0m\n\u001b[0m\u001b[0;32m      3\u001b[0m \u001b[1;33m\u001b[0m\u001b[0m\n\u001b[0;32m      4\u001b[0m \u001b[1;33m\u001b[0m\u001b[0m\n",
      "\u001b[1;32mC:\\Anaconda\\lib\\site-packages\\pandas\\core\\frame.pyc\u001b[0m in \u001b[0;36m__getitem__\u001b[1;34m(self, key)\u001b[0m\n\u001b[0;32m   1962\u001b[0m             \u001b[1;32mreturn\u001b[0m \u001b[0mself\u001b[0m\u001b[1;33m.\u001b[0m\u001b[0m_getitem_multilevel\u001b[0m\u001b[1;33m(\u001b[0m\u001b[0mkey\u001b[0m\u001b[1;33m)\u001b[0m\u001b[1;33m\u001b[0m\u001b[0m\n\u001b[0;32m   1963\u001b[0m         \u001b[1;32melse\u001b[0m\u001b[1;33m:\u001b[0m\u001b[1;33m\u001b[0m\u001b[0m\n\u001b[1;32m-> 1964\u001b[1;33m             \u001b[1;32mreturn\u001b[0m \u001b[0mself\u001b[0m\u001b[1;33m.\u001b[0m\u001b[0m_getitem_column\u001b[0m\u001b[1;33m(\u001b[0m\u001b[0mkey\u001b[0m\u001b[1;33m)\u001b[0m\u001b[1;33m\u001b[0m\u001b[0m\n\u001b[0m\u001b[0;32m   1965\u001b[0m \u001b[1;33m\u001b[0m\u001b[0m\n\u001b[0;32m   1966\u001b[0m     \u001b[1;32mdef\u001b[0m \u001b[0m_getitem_column\u001b[0m\u001b[1;33m(\u001b[0m\u001b[0mself\u001b[0m\u001b[1;33m,\u001b[0m \u001b[0mkey\u001b[0m\u001b[1;33m)\u001b[0m\u001b[1;33m:\u001b[0m\u001b[1;33m\u001b[0m\u001b[0m\n",
      "\u001b[1;32mC:\\Anaconda\\lib\\site-packages\\pandas\\core\\frame.pyc\u001b[0m in \u001b[0;36m_getitem_column\u001b[1;34m(self, key)\u001b[0m\n\u001b[0;32m   1969\u001b[0m         \u001b[1;31m# get column\u001b[0m\u001b[1;33m\u001b[0m\u001b[1;33m\u001b[0m\u001b[0m\n\u001b[0;32m   1970\u001b[0m         \u001b[1;32mif\u001b[0m \u001b[0mself\u001b[0m\u001b[1;33m.\u001b[0m\u001b[0mcolumns\u001b[0m\u001b[1;33m.\u001b[0m\u001b[0mis_unique\u001b[0m\u001b[1;33m:\u001b[0m\u001b[1;33m\u001b[0m\u001b[0m\n\u001b[1;32m-> 1971\u001b[1;33m             \u001b[1;32mreturn\u001b[0m \u001b[0mself\u001b[0m\u001b[1;33m.\u001b[0m\u001b[0m_get_item_cache\u001b[0m\u001b[1;33m(\u001b[0m\u001b[0mkey\u001b[0m\u001b[1;33m)\u001b[0m\u001b[1;33m\u001b[0m\u001b[0m\n\u001b[0m\u001b[0;32m   1972\u001b[0m \u001b[1;33m\u001b[0m\u001b[0m\n\u001b[0;32m   1973\u001b[0m         \u001b[1;31m# duplicate columns & possible reduce dimensionality\u001b[0m\u001b[1;33m\u001b[0m\u001b[1;33m\u001b[0m\u001b[0m\n",
      "\u001b[1;32mC:\\Anaconda\\lib\\site-packages\\pandas\\core\\generic.pyc\u001b[0m in \u001b[0;36m_get_item_cache\u001b[1;34m(self, item)\u001b[0m\n\u001b[0;32m   1643\u001b[0m         \u001b[0mres\u001b[0m \u001b[1;33m=\u001b[0m \u001b[0mcache\u001b[0m\u001b[1;33m.\u001b[0m\u001b[0mget\u001b[0m\u001b[1;33m(\u001b[0m\u001b[0mitem\u001b[0m\u001b[1;33m)\u001b[0m\u001b[1;33m\u001b[0m\u001b[0m\n\u001b[0;32m   1644\u001b[0m         \u001b[1;32mif\u001b[0m \u001b[0mres\u001b[0m \u001b[1;32mis\u001b[0m \u001b[0mNone\u001b[0m\u001b[1;33m:\u001b[0m\u001b[1;33m\u001b[0m\u001b[0m\n\u001b[1;32m-> 1645\u001b[1;33m             \u001b[0mvalues\u001b[0m \u001b[1;33m=\u001b[0m \u001b[0mself\u001b[0m\u001b[1;33m.\u001b[0m\u001b[0m_data\u001b[0m\u001b[1;33m.\u001b[0m\u001b[0mget\u001b[0m\u001b[1;33m(\u001b[0m\u001b[0mitem\u001b[0m\u001b[1;33m)\u001b[0m\u001b[1;33m\u001b[0m\u001b[0m\n\u001b[0m\u001b[0;32m   1646\u001b[0m             \u001b[0mres\u001b[0m \u001b[1;33m=\u001b[0m \u001b[0mself\u001b[0m\u001b[1;33m.\u001b[0m\u001b[0m_box_item_values\u001b[0m\u001b[1;33m(\u001b[0m\u001b[0mitem\u001b[0m\u001b[1;33m,\u001b[0m \u001b[0mvalues\u001b[0m\u001b[1;33m)\u001b[0m\u001b[1;33m\u001b[0m\u001b[0m\n\u001b[0;32m   1647\u001b[0m             \u001b[0mcache\u001b[0m\u001b[1;33m[\u001b[0m\u001b[0mitem\u001b[0m\u001b[1;33m]\u001b[0m \u001b[1;33m=\u001b[0m \u001b[0mres\u001b[0m\u001b[1;33m\u001b[0m\u001b[0m\n",
      "\u001b[1;32mC:\\Anaconda\\lib\\site-packages\\pandas\\core\\internals.pyc\u001b[0m in \u001b[0;36mget\u001b[1;34m(self, item, fastpath)\u001b[0m\n\u001b[0;32m   3588\u001b[0m \u001b[1;33m\u001b[0m\u001b[0m\n\u001b[0;32m   3589\u001b[0m             \u001b[1;32mif\u001b[0m \u001b[1;32mnot\u001b[0m \u001b[0misnull\u001b[0m\u001b[1;33m(\u001b[0m\u001b[0mitem\u001b[0m\u001b[1;33m)\u001b[0m\u001b[1;33m:\u001b[0m\u001b[1;33m\u001b[0m\u001b[0m\n\u001b[1;32m-> 3590\u001b[1;33m                 \u001b[0mloc\u001b[0m \u001b[1;33m=\u001b[0m \u001b[0mself\u001b[0m\u001b[1;33m.\u001b[0m\u001b[0mitems\u001b[0m\u001b[1;33m.\u001b[0m\u001b[0mget_loc\u001b[0m\u001b[1;33m(\u001b[0m\u001b[0mitem\u001b[0m\u001b[1;33m)\u001b[0m\u001b[1;33m\u001b[0m\u001b[0m\n\u001b[0m\u001b[0;32m   3591\u001b[0m             \u001b[1;32melse\u001b[0m\u001b[1;33m:\u001b[0m\u001b[1;33m\u001b[0m\u001b[0m\n\u001b[0;32m   3592\u001b[0m                 \u001b[0mindexer\u001b[0m \u001b[1;33m=\u001b[0m \u001b[0mnp\u001b[0m\u001b[1;33m.\u001b[0m\u001b[0marange\u001b[0m\u001b[1;33m(\u001b[0m\u001b[0mlen\u001b[0m\u001b[1;33m(\u001b[0m\u001b[0mself\u001b[0m\u001b[1;33m.\u001b[0m\u001b[0mitems\u001b[0m\u001b[1;33m)\u001b[0m\u001b[1;33m)\u001b[0m\u001b[1;33m[\u001b[0m\u001b[0misnull\u001b[0m\u001b[1;33m(\u001b[0m\u001b[0mself\u001b[0m\u001b[1;33m.\u001b[0m\u001b[0mitems\u001b[0m\u001b[1;33m)\u001b[0m\u001b[1;33m]\u001b[0m\u001b[1;33m\u001b[0m\u001b[0m\n",
      "\u001b[1;32mC:\\Anaconda\\lib\\site-packages\\pandas\\core\\indexes\\base.pyc\u001b[0m in \u001b[0;36mget_loc\u001b[1;34m(self, key, method, tolerance)\u001b[0m\n\u001b[0;32m   2442\u001b[0m                 \u001b[1;32mreturn\u001b[0m \u001b[0mself\u001b[0m\u001b[1;33m.\u001b[0m\u001b[0m_engine\u001b[0m\u001b[1;33m.\u001b[0m\u001b[0mget_loc\u001b[0m\u001b[1;33m(\u001b[0m\u001b[0mkey\u001b[0m\u001b[1;33m)\u001b[0m\u001b[1;33m\u001b[0m\u001b[0m\n\u001b[0;32m   2443\u001b[0m             \u001b[1;32mexcept\u001b[0m \u001b[0mKeyError\u001b[0m\u001b[1;33m:\u001b[0m\u001b[1;33m\u001b[0m\u001b[0m\n\u001b[1;32m-> 2444\u001b[1;33m                 \u001b[1;32mreturn\u001b[0m \u001b[0mself\u001b[0m\u001b[1;33m.\u001b[0m\u001b[0m_engine\u001b[0m\u001b[1;33m.\u001b[0m\u001b[0mget_loc\u001b[0m\u001b[1;33m(\u001b[0m\u001b[0mself\u001b[0m\u001b[1;33m.\u001b[0m\u001b[0m_maybe_cast_indexer\u001b[0m\u001b[1;33m(\u001b[0m\u001b[0mkey\u001b[0m\u001b[1;33m)\u001b[0m\u001b[1;33m)\u001b[0m\u001b[1;33m\u001b[0m\u001b[0m\n\u001b[0m\u001b[0;32m   2445\u001b[0m \u001b[1;33m\u001b[0m\u001b[0m\n\u001b[0;32m   2446\u001b[0m         \u001b[0mindexer\u001b[0m \u001b[1;33m=\u001b[0m \u001b[0mself\u001b[0m\u001b[1;33m.\u001b[0m\u001b[0mget_indexer\u001b[0m\u001b[1;33m(\u001b[0m\u001b[1;33m[\u001b[0m\u001b[0mkey\u001b[0m\u001b[1;33m]\u001b[0m\u001b[1;33m,\u001b[0m \u001b[0mmethod\u001b[0m\u001b[1;33m=\u001b[0m\u001b[0mmethod\u001b[0m\u001b[1;33m,\u001b[0m \u001b[0mtolerance\u001b[0m\u001b[1;33m=\u001b[0m\u001b[0mtolerance\u001b[0m\u001b[1;33m)\u001b[0m\u001b[1;33m\u001b[0m\u001b[0m\n",
      "\u001b[1;32mpandas\\_libs\\index.pyx\u001b[0m in \u001b[0;36mpandas._libs.index.IndexEngine.get_loc\u001b[1;34m()\u001b[0m\n",
      "\u001b[1;32mpandas\\_libs\\index.pyx\u001b[0m in \u001b[0;36mpandas._libs.index.IndexEngine.get_loc\u001b[1;34m()\u001b[0m\n",
      "\u001b[1;31mKeyError\u001b[0m: 'emails'"
     ]
    }
   ],
   "source": [
    "df = pd.DataFrame(['user <email>', 'user2 <email2'])\n",
    "df['emails'].str.split('<').str[0]\n",
    "\n",
    "    "
   ]
  },
  {
   "cell_type": "code",
   "execution_count": 67,
   "metadata": {},
   "outputs": [
    {
     "name": "stdout",
     "output_type": "stream",
     "text": [
      "['TBS CONF Ott-90Elgin-2-2025 CONF SCT ', 'zzMTGRM190Elgin2D@tbs-sct.gc.ca>']\n",
      "[' TBS CONF Ott-90Elgin-4-4386 CONF SCT ', 'zzMTGRM190Elgin4G@tbs-sct.gc.ca>']\n",
      "['TBS CONF Ott-90Elgin-2-2025 CONF SCT ', 'zzMTGRM190Elgin2D@tbs-sct.gc.ca>']\n",
      "[' TBS CONF Ott-90Elgin-4-4386 CONF SCT ', 'zzMTGRM190Elgin4G@tbs-sct.gc.ca>']\n",
      "['TBS CONF Ott-90Elgin-2-2025 CONF SCT ', 'zzMTGRM190Elgin2D@tbs-sct.gc.ca>']\n",
      "[' TBS CONF Ott-90Elgin-4-4386 CONF SCT ', 'zzMTGRM190Elgin4G@tbs-sct.gc.ca>']\n"
     ]
    }
   ],
   "source": [
    "for i in df:\n",
    "    fname = df['Text'].str.split('<')[0]\n",
    "    email = df['Text'].str.split('<')[1]\n",
    "    \n",
    "    print(fname)\n",
    "    print(email)"
   ]
  },
  {
   "cell_type": "code",
   "execution_count": 61,
   "metadata": {},
   "outputs": [
    {
     "ename": "SyntaxError",
     "evalue": "invalid syntax (<ipython-input-61-0072b20ee536>, line 1)",
     "output_type": "error",
     "traceback": [
      "\u001b[1;36m  File \u001b[1;32m\"<ipython-input-61-0072b20ee536>\"\u001b[1;36m, line \u001b[1;32m1\u001b[0m\n\u001b[1;33m    fname = df['Text'].str.split('<')[,0]\u001b[0m\n\u001b[1;37m                                      ^\u001b[0m\n\u001b[1;31mSyntaxError\u001b[0m\u001b[1;31m:\u001b[0m invalid syntax\n"
     ]
    }
   ],
   "source": []
  },
  {
   "cell_type": "code",
   "execution_count": 59,
   "metadata": {},
   "outputs": [
    {
     "data": {
      "text/plain": [
       "' Yung, Michael <Michael.Yung@tbs-sct.gc.ca>'"
      ]
     },
     "execution_count": 59,
     "metadata": {},
     "output_type": "execute_result"
    }
   ],
   "source": [
    "df['Text'][3]"
   ]
  },
  {
   "cell_type": "code",
   "execution_count": 60,
   "metadata": {},
   "outputs": [
    {
     "data": {
      "text/plain": [
       "0     [TBS CONF Ott-90Elgin-2-2025 CONF SCT , zzMTGR...\n",
       "1     [ TBS CONF Ott-90Elgin-4-4386 CONF SCT , zzMTG...\n",
       "2     [ Wilson-Boudreau, Sandra , Sandra.Wilson-Boud...\n",
       "3        [ Yung, Michael , Michael.Yung@tbs-sct.gc.ca>]\n",
       "4     [ Pelchat-Labelle, Laurence , Laurence.Pelchat...\n",
       "5        [ Zhang, Lisong , Lisong.Zhang@tbs-sct.gc.ca>]\n",
       "6                [ Ward, Ian , Ian.Ward@tbs-sct.gc.ca>]\n",
       "7        [ Innes, Stefan , Stefan.Innes@tbs-sct.gc.ca>]\n",
       "8        [ Sajjad, Rabia , Rabia.Sajjad@tbs-sct.gc.ca>]\n",
       "9     [ O'Blenis, Craig , Craig.OBlenis@tbs-sct.gc.ca>]\n",
       "10    [ Fortin, Youssef , Youssef.Fortin@tbs-sct.gc....\n",
       "11     [ Muirhead, Mike , Mike.Muirhead@tbs-sct.gc.ca>]\n",
       "12       [ Malé, Charles , Charles.Male@tbs-sct.gc.ca>]\n",
       "13    [ Beck-MacNeil, Ross (STATCAN) , ross.beck-mac...\n",
       "14           [ Ng, Monique , Monique.Ng@tbs-sct.gc.ca>]\n",
       "15      [ O'Byrne, Byron , Byron.OByrne@tbs-sct.gc.ca>]\n",
       "16     [ Baran, Jessica , Jessica.Baran@tbs-sct.gc.ca>]\n",
       "17    [ Beck-MacNeil, Ross , Ross.Beck-MacNeil@tbs-s...\n",
       "18       [ Lee, Wan-Chen , Wan-Chen.Lee@tbs-sct.gc.ca>]\n",
       "19     [ Emily Kokkoros (Emily.Kokkoros@tbs-sct.gc.ca)]\n",
       "20                                                 [ \\]\n",
       "Name: Text, dtype: object"
      ]
     },
     "execution_count": 60,
     "metadata": {},
     "output_type": "execute_result"
    }
   ],
   "source": [
    "fname\n"
   ]
  },
  {
   "cell_type": "code",
   "execution_count": null,
   "metadata": {
    "collapsed": true
   },
   "outputs": [],
   "source": []
  }
 ],
 "metadata": {
  "kernelspec": {
   "display_name": "Python [default]",
   "language": "python",
   "name": "python2"
  },
  "language_info": {
   "codemirror_mode": {
    "name": "ipython",
    "version": 2
   },
   "file_extension": ".py",
   "mimetype": "text/x-python",
   "name": "python",
   "nbconvert_exporter": "python",
   "pygments_lexer": "ipython2",
   "version": "2.7.13"
  }
 },
 "nbformat": 4,
 "nbformat_minor": 2
}

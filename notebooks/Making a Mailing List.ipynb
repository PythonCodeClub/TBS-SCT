{
 "cells": [
  {
   "cell_type": "code",
   "execution_count": 1,
   "metadata": {
    "collapsed": true
   },
   "outputs": [],
   "source": [
    "import pandas as pd "
   ]
  },
  {
   "cell_type": "code",
   "execution_count": 6,
   "metadata": {
    "scrolled": true
   },
   "outputs": [],
   "source": [
    "text = pd.read_csv(r'../data/Mailing.txt',sep=';')"
   ]
  },
  {
   "cell_type": "code",
   "execution_count": 7,
   "metadata": {
    "scrolled": true
   },
   "outputs": [
    {
     "data": {
      "text/html": [
       "<div>\n",
       "<style scoped>\n",
       "    .dataframe tbody tr th:only-of-type {\n",
       "        vertical-align: middle;\n",
       "    }\n",
       "\n",
       "    .dataframe tbody tr th {\n",
       "        vertical-align: top;\n",
       "    }\n",
       "\n",
       "    .dataframe thead th {\n",
       "        text-align: right;\n",
       "    }\n",
       "</style>\n",
       "<table border=\"1\" class=\"dataframe\">\n",
       "  <thead>\n",
       "    <tr style=\"text-align: right;\">\n",
       "      <th></th>\n",
       "      <th>TBS CONF Ott-90Elgin-2-2025 CONF SCT &lt;zzMTGRM190Elgin2D@tbs-sct.gc.ca&gt;</th>\n",
       "      <th>TBS CONF Ott-90Elgin-4-4386 CONF SCT &lt;zzMTGRM190Elgin4G@tbs-sct.gc.ca&gt;</th>\n",
       "      <th>Wilson-Boudreau, Sandra &lt;Sandra.Wilson-Boudreau@tbs-sct.gc.ca&gt;</th>\n",
       "      <th>Yung, Michael &lt;Michael.Yung@tbs-sct.gc.ca&gt;</th>\n",
       "      <th>Pelchat-Labelle, Laurence &lt;Laurence.Pelchat-Labelle@tbs-sct.gc.ca&gt;</th>\n",
       "      <th>Zhang, Lisong &lt;Lisong.Zhang@tbs-sct.gc.ca&gt;</th>\n",
       "      <th>Ward, Ian &lt;Ian.Ward@tbs-sct.gc.ca&gt;</th>\n",
       "      <th>Innes, Stefan &lt;Stefan.Innes@tbs-sct.gc.ca&gt;</th>\n",
       "      <th>Sajjad, Rabia &lt;Rabia.Sajjad@tbs-sct.gc.ca&gt;</th>\n",
       "      <th>O'Blenis, Craig &lt;Craig.OBlenis@tbs-sct.gc.ca&gt;</th>\n",
       "      <th>...</th>\n",
       "      <th>Muirhead, Mike &lt;Mike.Muirhead@tbs-sct.gc.ca&gt;.1</th>\n",
       "      <th>Samaroo, Rohit &lt;Rohit.Samaroo@tbs-sct.gc.ca&gt;</th>\n",
       "      <th>Livermore, Simon &lt;Simon.Livermore@tbs-sct.gc.ca&gt;</th>\n",
       "      <th>Whittingham, André &lt;Andre.Whittingham@tbs-sct.gc.ca&gt;</th>\n",
       "      <th>Rancourt, Stéphane &lt;Stephane.Rancourt@tbs-sct.gc.ca&gt;</th>\n",
       "      <th>Kang, Taewan &lt;Taewan.Kang@tbs-sct.gc.ca&gt;</th>\n",
       "      <th>Ward, Ian &lt;Ian.Ward@tbs-sct.gc.ca&gt;</th>\n",
       "      <th>Bedja, Houssam &lt;Houssam.Bedja@tbs-sct.gc.ca&gt;</th>\n",
       "      <th>Sajjad, Rabia &lt;Rabia.Sajjad@tbs-sct.gc.ca&gt;.1</th>\n",
       "      <th>Fredenburgh, Maxwell &lt;Maxwell.Fredenburgh@tbs-sct.gc.ca&gt;</th>\n",
       "    </tr>\n",
       "  </thead>\n",
       "  <tbody>\n",
       "  </tbody>\n",
       "</table>\n",
       "<p>0 rows × 48 columns</p>\n",
       "</div>"
      ],
      "text/plain": [
       "Empty DataFrame\n",
       "Columns: [TBS CONF Ott-90Elgin-2-2025 CONF SCT <zzMTGRM190Elgin2D@tbs-sct.gc.ca>,  TBS CONF Ott-90Elgin-4-4386 CONF SCT <zzMTGRM190Elgin4G@tbs-sct.gc.ca>,  Wilson-Boudreau, Sandra <Sandra.Wilson-Boudreau@tbs-sct.gc.ca>,  Yung, Michael <Michael.Yung@tbs-sct.gc.ca>,  Pelchat-Labelle, Laurence <Laurence.Pelchat-Labelle@tbs-sct.gc.ca>,  Zhang, Lisong <Lisong.Zhang@tbs-sct.gc.ca>,  Ward, Ian <Ian.Ward@tbs-sct.gc.ca>,  Innes, Stefan <Stefan.Innes@tbs-sct.gc.ca>,  Sajjad, Rabia <Rabia.Sajjad@tbs-sct.gc.ca>,  O'Blenis, Craig <Craig.OBlenis@tbs-sct.gc.ca>,  Fortin, Youssef <Youssef.Fortin@tbs-sct.gc.ca>,  Muirhead, Mike <Mike.Muirhead@tbs-sct.gc.ca>,  Malé, Charles <Charles.Male@tbs-sct.gc.ca>,  Beck-MacNeil, Ross (STATCAN) <ross.beck-macneil@canada.ca>,  Ng, Monique <Monique.Ng@tbs-sct.gc.ca>,  O'Byrne, Byron <Byron.OByrne@tbs-sct.gc.ca>,  Baran, Jessica <Jessica.Baran@tbs-sct.gc.ca>,  Beck-MacNeil, Ross <Ross.Beck-MacNeil@tbs-sct.gc.ca>,  Lee, Wan-Chen <Wan-Chen.Lee@tbs-sct.gc.ca>,  Emily Kokkoros (Emily.Kokkoros@tbs-sct.gc.ca), O'Byrne, Byron <Byron.OByrne@tbs-sct.gc.ca>,  Little, Patrick <Patrick.Little@tbs-sct.gc.ca>,  Wilson-Boudreau, Sandra <Sandra.Wilson-Boudreau@tbs-sct.gc.ca>.1,  Côté, Jean-François <Jean-Francois.Cote@tbs-sct.gc.ca>,  O'Neil, Stephen <Stephen.ONeil@tbs-sct.gc.ca>,  McKenzie, Ralston <Ralston.McKenzie@tbs-sct.gc.ca>,  Germain, Nicolas <Nicolas.Germain@tbs-sct.gc.ca>,  Beck-MacNeil, Ross <Ross.Beck-MacNeil@tbs-sct.gc.ca>.1,  quang-vinh.do@cra-arc.gc.ca,  Yung, Michael <Michael.Yung@tbs-sct.gc.ca>.1,  Lee, Wan-Chen <Wan-Chen.Lee@tbs-sct.gc.ca>.1,  Collins, Victor <Victor.Collins@tbs-sct.gc.ca>,  Tsiroulnitchenko, Evguenia <Evguenia.Tsiroulnitchenko@tbs-sct.gc.ca>,  Dempsey, Joshua <Joshua.Dempsey@tbs-sct.gc.ca>,  Pollock, Allan <Allan.Pollock@tbs-sct.gc.ca>,  Tiwari, Krishna <Krishna.Tiwari@tbs-sct.gc.ca>,  Viens, Pierre-Alexandre <Pierre-Alexandre.Viens@tbs-sct.gc.ca>,  Gager, Michael <Michael.Gager@tbs-sct.gc.ca>,  Muirhead, Mike <Mike.Muirhead@tbs-sct.gc.ca>.1,  Samaroo, Rohit <Rohit.Samaroo@tbs-sct.gc.ca>,  Livermore, Simon <Simon.Livermore@tbs-sct.gc.ca>,  Whittingham, André <Andre.Whittingham@tbs-sct.gc.ca>,  Rancourt, Stéphane <Stephane.Rancourt@tbs-sct.gc.ca>,  Kang, Taewan <Taewan.Kang@tbs-sct.gc.ca>, Ward, Ian <Ian.Ward@tbs-sct.gc.ca>,  Bedja, Houssam <Houssam.Bedja@tbs-sct.gc.ca>,  Sajjad, Rabia <Rabia.Sajjad@tbs-sct.gc.ca>.1,  Fredenburgh, Maxwell <Maxwell.Fredenburgh@tbs-sct.gc.ca>]\n",
       "Index: []\n",
       "\n",
       "[0 rows x 48 columns]"
      ]
     },
     "execution_count": 7,
     "metadata": {},
     "output_type": "execute_result"
    }
   ],
   "source": [
    "text"
   ]
  },
  {
   "cell_type": "code",
   "execution_count": 8,
   "metadata": {},
   "outputs": [
    {
     "data": {
      "text/plain": [
       "['TBS CONF Ott-90Elgin-2-2025 CONF SCT <zzMTGRM190Elgin2D@tbs-sct.gc.ca>',\n",
       " ' TBS CONF Ott-90Elgin-4-4386 CONF SCT <zzMTGRM190Elgin4G@tbs-sct.gc.ca>',\n",
       " ' Wilson-Boudreau, Sandra <Sandra.Wilson-Boudreau@tbs-sct.gc.ca>',\n",
       " ' Yung, Michael <Michael.Yung@tbs-sct.gc.ca>',\n",
       " ' Pelchat-Labelle, Laurence <Laurence.Pelchat-Labelle@tbs-sct.gc.ca>',\n",
       " ' Zhang, Lisong <Lisong.Zhang@tbs-sct.gc.ca>',\n",
       " ' Ward, Ian <Ian.Ward@tbs-sct.gc.ca>',\n",
       " ' Innes, Stefan <Stefan.Innes@tbs-sct.gc.ca>',\n",
       " ' Sajjad, Rabia <Rabia.Sajjad@tbs-sct.gc.ca>',\n",
       " \" O'Blenis, Craig <Craig.OBlenis@tbs-sct.gc.ca>\",\n",
       " ' Fortin, Youssef <Youssef.Fortin@tbs-sct.gc.ca>',\n",
       " ' Muirhead, Mike <Mike.Muirhead@tbs-sct.gc.ca>',\n",
       " ' Malé, Charles <Charles.Male@tbs-sct.gc.ca>',\n",
       " ' Beck-MacNeil, Ross (STATCAN) <ross.beck-macneil@canada.ca>',\n",
       " ' Ng, Monique <Monique.Ng@tbs-sct.gc.ca>',\n",
       " \" O'Byrne, Byron <Byron.OByrne@tbs-sct.gc.ca>\",\n",
       " ' Baran, Jessica <Jessica.Baran@tbs-sct.gc.ca>',\n",
       " ' Beck-MacNeil, Ross <Ross.Beck-MacNeil@tbs-sct.gc.ca>',\n",
       " ' Lee, Wan-Chen <Wan-Chen.Lee@tbs-sct.gc.ca>',\n",
       " ' Emily Kokkoros (Emily.Kokkoros@tbs-sct.gc.ca)',\n",
       " \"O'Byrne, Byron <Byron.OByrne@tbs-sct.gc.ca>\",\n",
       " ' Little, Patrick <Patrick.Little@tbs-sct.gc.ca>',\n",
       " ' Wilson-Boudreau, Sandra <Sandra.Wilson-Boudreau@tbs-sct.gc.ca>.1',\n",
       " ' Côté, Jean-François <Jean-Francois.Cote@tbs-sct.gc.ca>',\n",
       " \" O'Neil, Stephen <Stephen.ONeil@tbs-sct.gc.ca>\",\n",
       " ' McKenzie, Ralston <Ralston.McKenzie@tbs-sct.gc.ca>',\n",
       " ' Germain, Nicolas <Nicolas.Germain@tbs-sct.gc.ca>',\n",
       " ' Beck-MacNeil, Ross <Ross.Beck-MacNeil@tbs-sct.gc.ca>.1',\n",
       " ' quang-vinh.do@cra-arc.gc.ca',\n",
       " ' Yung, Michael <Michael.Yung@tbs-sct.gc.ca>.1',\n",
       " ' Lee, Wan-Chen <Wan-Chen.Lee@tbs-sct.gc.ca>.1',\n",
       " ' Collins, Victor <Victor.Collins@tbs-sct.gc.ca>',\n",
       " ' Tsiroulnitchenko, Evguenia <Evguenia.Tsiroulnitchenko@tbs-sct.gc.ca>',\n",
       " ' Dempsey, Joshua <Joshua.Dempsey@tbs-sct.gc.ca>',\n",
       " ' Pollock, Allan <Allan.Pollock@tbs-sct.gc.ca>',\n",
       " ' Tiwari, Krishna <Krishna.Tiwari@tbs-sct.gc.ca>',\n",
       " ' Viens, Pierre-Alexandre <Pierre-Alexandre.Viens@tbs-sct.gc.ca>',\n",
       " ' Gager, Michael <Michael.Gager@tbs-sct.gc.ca>',\n",
       " ' Muirhead, Mike <Mike.Muirhead@tbs-sct.gc.ca>.1',\n",
       " ' Samaroo, Rohit <Rohit.Samaroo@tbs-sct.gc.ca>',\n",
       " ' Livermore, Simon <Simon.Livermore@tbs-sct.gc.ca>',\n",
       " ' Whittingham, André <Andre.Whittingham@tbs-sct.gc.ca>',\n",
       " ' Rancourt, Stéphane <Stephane.Rancourt@tbs-sct.gc.ca>',\n",
       " ' Kang, Taewan <Taewan.Kang@tbs-sct.gc.ca>',\n",
       " 'Ward, Ian <Ian.Ward@tbs-sct.gc.ca>',\n",
       " ' Bedja, Houssam <Houssam.Bedja@tbs-sct.gc.ca>',\n",
       " ' Sajjad, Rabia <Rabia.Sajjad@tbs-sct.gc.ca>.1',\n",
       " ' Fredenburgh, Maxwell <Maxwell.Fredenburgh@tbs-sct.gc.ca>']"
      ]
     },
     "execution_count": 8,
     "metadata": {},
     "output_type": "execute_result"
    }
   ],
   "source": [
    "information = list(text.columns)\n",
    "df = pd.DataFrame()\n",
    "information"
   ]
  },
  {
   "cell_type": "code",
   "execution_count": 9,
   "metadata": {},
   "outputs": [
    {
     "data": {
      "text/html": [
       "<div>\n",
       "<style scoped>\n",
       "    .dataframe tbody tr th:only-of-type {\n",
       "        vertical-align: middle;\n",
       "    }\n",
       "\n",
       "    .dataframe tbody tr th {\n",
       "        vertical-align: top;\n",
       "    }\n",
       "\n",
       "    .dataframe thead th {\n",
       "        text-align: right;\n",
       "    }\n",
       "</style>\n",
       "<table border=\"1\" class=\"dataframe\">\n",
       "  <thead>\n",
       "    <tr style=\"text-align: right;\">\n",
       "      <th></th>\n",
       "      <th>Text</th>\n",
       "    </tr>\n",
       "  </thead>\n",
       "  <tbody>\n",
       "    <tr>\n",
       "      <th>0</th>\n",
       "      <td>TBS CONF Ott-90Elgin-2-2025 CONF SCT &lt;zzMTGRM1...</td>\n",
       "    </tr>\n",
       "  </tbody>\n",
       "</table>\n",
       "</div>"
      ],
      "text/plain": [
       "                                                Text\n",
       "0  TBS CONF Ott-90Elgin-2-2025 CONF SCT <zzMTGRM1..."
      ]
     },
     "execution_count": 9,
     "metadata": {},
     "output_type": "execute_result"
    }
   ],
   "source": [
    "df = pd.DataFrame({\"Text\":information})\n",
    "df.head(1)"
   ]
  },
  {
   "cell_type": "code",
   "execution_count": 10,
   "metadata": {},
   "outputs": [
    {
     "data": {
      "text/plain": [
       "Text     TBS CONF Ott-90Elgin-4-4386 CONF SCT <zzMTGRM...\n",
       "Name: 1, dtype: object"
      ]
     },
     "execution_count": 10,
     "metadata": {},
     "output_type": "execute_result"
    }
   ],
   "source": [
    "df.loc[1]"
   ]
  },
  {
   "cell_type": "code",
   "execution_count": 11,
   "metadata": {},
   "outputs": [],
   "source": [
    "df['fname'] = df['Text'].str.split('<').str[0]\n",
    "df['first'] = df['fname'].str.split(',').str[0]\n",
    "df['last'] =df['fname'].str.split(',').str[1]\n",
    "df['email']= df['Text'].str.split('<').str[1]\n",
    "df['email']=df['email'].str.replace('>','')"
   ]
  },
  {
   "cell_type": "code",
   "execution_count": 13,
   "metadata": {
    "collapsed": true
   },
   "outputs": [],
   "source": [
    "df.to_csv('../data/mail_list.csv')"
   ]
  },
  {
   "cell_type": "code",
   "execution_count": null,
   "metadata": {},
   "outputs": [],
   "source": []
  }
 ],
 "metadata": {
  "kernelspec": {
   "display_name": "Python 3",
   "language": "python",
   "name": "python3"
  },
  "language_info": {
   "codemirror_mode": {
    "name": "ipython",
    "version": 3
   },
   "file_extension": ".py",
   "mimetype": "text/x-python",
   "name": "python",
   "nbconvert_exporter": "python",
   "pygments_lexer": "ipython3",
   "version": "3.7.2"
  }
 },
 "nbformat": 4,
 "nbformat_minor": 2
}

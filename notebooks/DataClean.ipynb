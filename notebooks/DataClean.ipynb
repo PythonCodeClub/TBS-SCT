{
 "cells": [
  {
   "cell_type": "code",
   "execution_count": 22,
   "metadata": {},
   "outputs": [],
   "source": [
    "import pandas as pd\n",
    "import numpy as np\n",
    "import os\n",
    "import re"
   ]
  },
  {
   "cell_type": "code",
   "execution_count": 13,
   "metadata": {},
   "outputs": [
    {
     "name": "stdout",
     "output_type": "stream",
     "text": [
      "C:\\Users\\Roy Angelo\\Google Drive\\03_Work\\TBS\\Work\n"
     ]
    }
   ],
   "source": [
    "cwd = os.getcwd()\n",
    "print(cwd)"
   ]
  },
  {
   "cell_type": "code",
   "execution_count": 75,
   "metadata": {},
   "outputs": [],
   "source": [
    "def clean_():\n",
    "    data = (pd.read_csv('./contact.csv')).dropna(axis='columns',how='all')\n",
    "    data = data.dropna(subset=['E-mail'])\n",
    "    return data"
   ]
  },
  {
   "cell_type": "code",
   "execution_count": 104,
   "metadata": {},
   "outputs": [],
   "source": [
    "data = clean_()"
   ]
  },
  {
   "cell_type": "code",
   "execution_count": 105,
   "metadata": {},
   "outputs": [
    {
     "data": {
      "text/plain": [
       "0                               Monique.Ng@tbs-sct.gc.ca\n",
       "1                                Matthew.Topic@cic.gc.ca\n",
       "2                               Michael.Haymes@cic.gc.ca\n",
       "3                               Wassim.El-Kass@cic.gc.ca\n",
       "4                              Somaieh.Nikpoor@cic.gc.ca\n",
       "5                                 Oksana.Korol@AGR.GC.CA\n",
       "6                            LChen@bank-banque-canada.ca\n",
       "7                                   Ben.Watson@AGR.GC.CA\n",
       "8                            Jason.Annable@justice.gc.ca\n",
       "9                             aditya.gangaraju@canada.ca\n",
       "10                        Chris.DeSpiegelaere@crtc.gc.ca\n",
       "11                                Paul.Normore@agr.gc.ca\n",
       "12                               monaly.mistry@canada.ca\n",
       "13     Kowaluk, Brian (CFIA/ACIA) <brian.kowaluk@cana...\n",
       "14                  Guerra, Paul <Paul.Guerra@AGR.GC.CA>\n",
       "15                        gabrielle.robert@otc-cta.gc.ca\n",
       "16      Striha, Megan (STATCAN) <megan.striha@canada.ca>\n",
       "17                             rajendra.subedi@canada.ca\n",
       "18                                ian.barrett@canada.ca>\n",
       "19                                   gary.choy@canada.ca\n",
       "20                      jerome.Levesque@drdc-rddc.gc.ca>\n",
       "21                               serge.goussev@canada.ca\n",
       "22                               kelvin.bunner@canada.ca\n",
       "23                                      jason@magnara.ca\n",
       "24            Victor.KelomeAzondekon@international.gc.ca\n",
       "25                              jocelyn.pender@canada.ca\n",
       "26                       <Christopher.Wiedman@canada.ca>\n",
       "27                                ryan.white4@canada.ca>\n",
       "28     Sewards, Crystal (STATCAN) <crystal.sewards@ca...\n",
       "29                            <dominic.parent@canada.ca>\n",
       "                             ...                        \n",
       "114                           DAVID.WALLER2@forces.gc.ca\n",
       "115                             christina.yung@canada.ca\n",
       "116                  ravendra.naidoo@servicecanada.gc.ca\n",
       "117                                Cary.Soares@canada.ca\n",
       "118                     Miyuru.Kannangara@nrc-cnrc.gc.ca\n",
       "119                    jennifer.yueh@servicecanada.gc.ca\n",
       "120                    <Philippe.Belanger@cra-arc.gc.ca>\n",
       "121                               huda.masoud@canada.ca>\n",
       "122                          David.Charles@cra-arc.gc.ca\n",
       "123    Tabitha Williams <Tabitha.Williams@tpsgc-pwgsc...\n",
       "124        Paul Simpson <Paul.Simpson@tpsgc-pwgsc.gc.ca>\n",
       "125    Corbett, Cheryl (CFIA/ACIA) <cheryl.corbett@ca...\n",
       "126                       adam.cassidy@hrsdc-rhdcc.gc.ca\n",
       "127                              samuel.plasse@canada.ca\n",
       "128             Nasr, Omar (HC/SC) <omar.nasr@canada.ca>\n",
       "129              Ta, Chieu (HC/SC) <chieu.ta@canada.ca>;\n",
       "130                  akhilesh.kotiya@servicecanada.gc.ca\n",
       "131                               Julian.kirby@canada.ca\n",
       "132       Buijs, Daniel (HC/SC) <daniel.buijs@canada.ca>\n",
       "133      Eugene Omboli <Eugene.omboli@tpsgc-pwgsc.gc.ca>\n",
       "134         Stephen, Shaju <Shaju.Stephen@cra-arc.gc.ca>\n",
       "135                  ilya.volnyansky@servicecanada.gc.ca\n",
       "136    Adorador Francis (NHQ-AC) <Francis.Adorador@CS...\n",
       "137    Gill, Pamela Kinga (STATCAN) <pamelakinga.gill...\n",
       "138                        Martin.richard@nrc-cnrc.gc.ca\n",
       "140                         Mohamed.sayed@nrc-cnrc.gc.ca\n",
       "142                           Ivana.kubat@nrc-cnrc.gc.ca\n",
       "143                          John.Shannon@nrc-cnrc.gc.ca\n",
       "144                            Carl.Caron@nrc-cnrc.gc.ca\n",
       "145                  Magali.Merkx-Jacques@nrc-cnrc.gc.ca\n",
       "Name: E-mail, Length: 144, dtype: object"
      ]
     },
     "execution_count": 105,
     "metadata": {},
     "output_type": "execute_result"
    }
   ],
   "source": [
    "data['E-mail']"
   ]
  },
  {
   "cell_type": "code",
   "execution_count": 103,
   "metadata": {},
   "outputs": [],
   "source": [
    "data['E-mail'] = data['E-mail'].str.replace('<','')\n",
    "data['E-mail'] = data['E-mail'].str.replace('>','')\n",
    "data['E-mail'] = data['E-mail'].str.replace()\n",
    "#data['check'] = data['E-mail'].str.split('@')\n"
   ]
  },
  {
   "cell_type": "code",
   "execution_count": 96,
   "metadata": {},
   "outputs": [
    {
     "data": {
      "text/plain": [
       "144"
      ]
     },
     "execution_count": 96,
     "metadata": {},
     "output_type": "execute_result"
    }
   ],
   "source": [
    "len(data['check'])"
   ]
  },
  {
   "cell_type": "code",
   "execution_count": 101,
   "metadata": {},
   "outputs": [
    {
     "data": {
      "text/plain": [
       "0                            [Monique.Ng, tbs-sct.gc.ca]\n",
       "1                             [Matthew.Topic, cic.gc.ca]\n",
       "2                            [Michael.Haymes, cic.gc.ca]\n",
       "3                            [Wassim.El-Kass, cic.gc.ca]\n",
       "4                           [Somaieh.Nikpoor, cic.gc.ca]\n",
       "5                              [Oksana.Korol, AGR.GC.CA]\n",
       "6                         [LChen, bank-banque-canada.ca]\n",
       "7                                [Ben.Watson, AGR.GC.CA]\n",
       "8                         [Jason.Annable, justice.gc.ca]\n",
       "9                          [aditya.gangaraju, canada.ca]\n",
       "10                     [Chris.DeSpiegelaere, crtc.gc.ca]\n",
       "11                             [Paul.Normore, agr.gc.ca]\n",
       "12                            [monaly.mistry, canada.ca]\n",
       "13     [Kowaluk, Brian (CFIA/ACIA) <brian.kowaluk, ca...\n",
       "14               [Guerra, Paul <Paul.Guerra, AGR.GC.CA>]\n",
       "15                     [gabrielle.robert, otc-cta.gc.ca]\n",
       "16     [Striha, Megan (STATCAN) <megan.striha, canada...\n",
       "17                          [rajendra.subedi, canada.ca]\n",
       "18                             [ian.barrett, canada.ca>]\n",
       "19                                [gary.choy, canada.ca]\n",
       "20                   [jerome.Levesque, drdc-rddc.gc.ca>]\n",
       "21                            [serge.goussev, canada.ca]\n",
       "22                            [kelvin.bunner, canada.ca]\n",
       "23                                   [jason, magnara.ca]\n",
       "24         [Victor.KelomeAzondekon, international.gc.ca]\n",
       "25                           [jocelyn.pender, canada.ca]\n",
       "26                    [<Christopher.Wiedman, canada.ca>]\n",
       "27                             [ryan.white4, canada.ca>]\n",
       "28     [Sewards, Crystal (STATCAN) <crystal.sewards, ...\n",
       "29                         [<dominic.parent, canada.ca>]\n",
       "                             ...                        \n",
       "114                        [DAVID.WALLER2, forces.gc.ca]\n",
       "115                          [christina.yung, canada.ca]\n",
       "116               [ravendra.naidoo, servicecanada.gc.ca]\n",
       "117                             [Cary.Soares, canada.ca]\n",
       "118                  [Miyuru.Kannangara, nrc-cnrc.gc.ca]\n",
       "119                 [jennifer.yueh, servicecanada.gc.ca]\n",
       "120                 [<Philippe.Belanger, cra-arc.gc.ca>]\n",
       "121                            [huda.masoud, canada.ca>]\n",
       "122                       [David.Charles, cra-arc.gc.ca]\n",
       "123    [Tabitha Williams <Tabitha.Williams, tpsgc-pwg...\n",
       "124     [Paul Simpson <Paul.Simpson, tpsgc-pwgsc.gc.ca>]\n",
       "125    [Corbett, Cheryl (CFIA/ACIA) <cheryl.corbett, ...\n",
       "126                    [adam.cassidy, hrsdc-rhdcc.gc.ca]\n",
       "127                           [samuel.plasse, canada.ca]\n",
       "128          [Nasr, Omar (HC/SC) <omar.nasr, canada.ca>]\n",
       "129           [Ta, Chieu (HC/SC) <chieu.ta, canada.ca>;]\n",
       "130               [akhilesh.kotiya, servicecanada.gc.ca]\n",
       "131                            [Julian.kirby, canada.ca]\n",
       "132    [Buijs, Daniel (HC/SC) <daniel.buijs, canada.ca>]\n",
       "133    [Eugene Omboli <Eugene.omboli, tpsgc-pwgsc.gc....\n",
       "134      [Stephen, Shaju <Shaju.Stephen, cra-arc.gc.ca>]\n",
       "135               [ilya.volnyansky, servicecanada.gc.ca]\n",
       "136    [Adorador Francis (NHQ-AC) <Francis.Adorador, ...\n",
       "137    [Gill, Pamela Kinga (STATCAN) <pamelakinga.gil...\n",
       "138                     [Martin.richard, nrc-cnrc.gc.ca]\n",
       "140                      [Mohamed.sayed, nrc-cnrc.gc.ca]\n",
       "142                        [Ivana.kubat, nrc-cnrc.gc.ca]\n",
       "143                       [John.Shannon, nrc-cnrc.gc.ca]\n",
       "144                         [Carl.Caron, nrc-cnrc.gc.ca]\n",
       "145               [Magali.Merkx-Jacques, nrc-cnrc.gc.ca]\n",
       "Name: check, Length: 144, dtype: object"
      ]
     },
     "execution_count": 101,
     "metadata": {},
     "output_type": "execute_result"
    }
   ],
   "source": [
    "data['check']"
   ]
  }
 ],
 "metadata": {
  "kernelspec": {
   "display_name": "Python 3",
   "language": "python",
   "name": "python3"
  },
  "language_info": {
   "codemirror_mode": {
    "name": "ipython",
    "version": 3
   },
   "file_extension": ".py",
   "mimetype": "text/x-python",
   "name": "python",
   "nbconvert_exporter": "python",
   "pygments_lexer": "ipython3",
   "version": "3.5.5"
  }
 },
 "nbformat": 4,
 "nbformat_minor": 2
}
